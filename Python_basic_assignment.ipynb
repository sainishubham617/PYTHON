{
  "nbformat": 4,
  "nbformat_minor": 0,
  "metadata": {
    "colab": {
      "provenance": []
    },
    "kernelspec": {
      "name": "python3",
      "display_name": "Python 3"
    },
    "language_info": {
      "name": "python"
    }
  },
  "cells": [
    {
      "cell_type": "markdown",
      "source": [
        "Q1. Explain the key features of Python that make it a popular choice for programming"
      ],
      "metadata": {
        "id": "ZaNQN9UvrCTl"
      }
    },
    {
      "cell_type": "markdown",
      "source": [
        "key feathures of pythion\n",
        "1. Python is a programing language that is easy to udnderstand and write, making it popular choice among devlopers and programmers.\n",
        "2. It is compatible with various programing paradigms, such as procedural, object- oriented and functional programing\n",
        "3. Python has a large and active community of developers, an extensive standrad library, and third party packages for various domains"
      ],
      "metadata": {
        "id": "QdCE-vLyrFNc"
      }
    },
    {
      "cell_type": "markdown",
      "source": [
        "Q2. Describe the role of predefined keywords in Python and provide examples of how they are used in a\n",
        "program\n"
      ],
      "metadata": {
        "id": "V_JiGQOStW4U"
      }
    },
    {
      "cell_type": "markdown",
      "source": [
        "Role of keywordsin python -:\n",
        "1. keywords are reserved words in python  that have special meaning and cannot be used as identifiers (variable names, function names etc).\n",
        "2. Examples of keywords include if, else, while, for, def, class, import, try, except, return, True, False, None, etc.\n",
        "3. Keywords are case-sensitive and cannot be redefined or overridden within a Python program.\n",
        "\n"
      ],
      "metadata": {
        "id": "CPxxTHuatYlZ"
      }
    },
    {
      "cell_type": "markdown",
      "source": [
        "Q3. Compare and contrast mutable and immutable objects in Python with examples0\n"
      ],
      "metadata": {
        "id": "BHh2v_aVm9yA"
      }
    },
    {
      "cell_type": "markdown",
      "source": [
        "Comparison in mutable and immutable object in python :-\n",
        "\n",
        "1. In Python, objects can be either changeable (modifiable) or unchangeable (unchangeable).Mutable objects are changeable and immutable object are unchangeable.\n",
        "2. Mutable objects, such as lists and dictionaries, can be modified after creation, while immutable objects, such as tuples and strings, cannot.\n",
        "3. Mutability affects how objects are stored and manipulated in memory, impacting performance, memory usage, and concurrency in Python programs.\n",
        "4. exmpale of mutable & immutable\n",
        "mutable:-\n",
        "\n",
        "\n"
      ],
      "metadata": {
        "id": "rg6fXWXBqcwz"
      }
    },
    {
      "cell_type": "code",
      "source": [
        "#mutability\n",
        "list_cont = [1, 2, 3, 4.3, \"shubham\", True]"
      ],
      "metadata": {
        "id": "6kH4sfEsn-sa"
      },
      "execution_count": 12,
      "outputs": []
    },
    {
      "cell_type": "code",
      "source": [
        "list_cont"
      ],
      "metadata": {
        "colab": {
          "base_uri": "https://localhost:8080/"
        },
        "id": "mJQB620LonAK",
        "outputId": "5362bd09-9c9a-4b1c-8aff-d32d42ea6401"
      },
      "execution_count": 15,
      "outputs": [
        {
          "output_type": "execute_result",
          "data": {
            "text/plain": [
              "[1, 2, 3, 4.3, 'shubham', True]"
            ]
          },
          "metadata": {},
          "execution_count": 15
        }
      ]
    },
    {
      "cell_type": "code",
      "source": [
        "list_cont [0]"
      ],
      "metadata": {
        "colab": {
          "base_uri": "https://localhost:8080/"
        },
        "id": "KX_H4pjIpzhe",
        "outputId": "a897302b-941e-4fb9-ff35-d400eceaeac5"
      },
      "execution_count": 17,
      "outputs": [
        {
          "output_type": "execute_result",
          "data": {
            "text/plain": [
              "1"
            ]
          },
          "metadata": {},
          "execution_count": 17
        }
      ]
    },
    {
      "cell_type": "code",
      "source": [
        "list_cont[3]"
      ],
      "metadata": {
        "colab": {
          "base_uri": "https://localhost:8080/"
        },
        "id": "3m8F87lwqXmP",
        "outputId": "16919bd3-8aae-4668-dc25-fa8c1fc853dd"
      },
      "execution_count": 18,
      "outputs": [
        {
          "output_type": "execute_result",
          "data": {
            "text/plain": [
              "4.3"
            ]
          },
          "metadata": {},
          "execution_count": 18
        }
      ]
    },
    {
      "cell_type": "code",
      "source": [
        "list_cont[1] = \"pw education\" #mutability"
      ],
      "metadata": {
        "id": "R74rcsZPqgaA"
      },
      "execution_count": 20,
      "outputs": []
    },
    {
      "cell_type": "code",
      "source": [
        "list_cont"
      ],
      "metadata": {
        "colab": {
          "base_uri": "https://localhost:8080/"
        },
        "id": "-S0-STLVrk9t",
        "outputId": "66d6d92b-eab3-4712-8b9b-b3c91b73b454"
      },
      "execution_count": 25,
      "outputs": [
        {
          "output_type": "execute_result",
          "data": {
            "text/plain": [
              "[1, 'pw education', 3, 4.3, 'shubham', True]"
            ]
          },
          "metadata": {},
          "execution_count": 25
        }
      ]
    },
    {
      "cell_type": "code",
      "source": [
        "#imutability\n",
        "b[0] = \"shubham\""
      ],
      "metadata": {
        "colab": {
          "base_uri": "https://localhost:8080/",
          "height": 158
        },
        "id": "dKqKSuTUrtSy",
        "outputId": "6752a912-1cbf-4234-9911-f87e333ba8bf"
      },
      "execution_count": 26,
      "outputs": [
        {
          "output_type": "error",
          "ename": "NameError",
          "evalue": "name 'b' is not defined",
          "traceback": [
            "\u001b[0;31m---------------------------------------------------------------------------\u001b[0m",
            "\u001b[0;31mNameError\u001b[0m                                 Traceback (most recent call last)",
            "\u001b[0;32m<ipython-input-26-d9fa80ce0afb>\u001b[0m in \u001b[0;36m<cell line: 0>\u001b[0;34m()\u001b[0m\n\u001b[1;32m      1\u001b[0m \u001b[0;31m#imutability\u001b[0m\u001b[0;34m\u001b[0m\u001b[0;34m\u001b[0m\u001b[0m\n\u001b[0;32m----> 2\u001b[0;31m \u001b[0mb\u001b[0m\u001b[0;34m[\u001b[0m\u001b[0;36m0\u001b[0m\u001b[0;34m]\u001b[0m \u001b[0;34m=\u001b[0m \u001b[0;34m\"shubham\"\u001b[0m\u001b[0;34m\u001b[0m\u001b[0;34m\u001b[0m\u001b[0m\n\u001b[0m",
            "\u001b[0;31mNameError\u001b[0m: name 'b' is not defined"
          ]
        }
      ]
    },
    {
      "cell_type": "markdown",
      "source": [
        "Q4. Discuss the different types of operators in Python and provide examples of how they are used\n"
      ],
      "metadata": {
        "id": "oolO3NGhqfJ3"
      }
    },
    {
      "cell_type": "markdown",
      "source": [
        "Opreators of python :-\n",
        "1. Operators are special symbols or keywords that are used to carry out specific actions on numbers or variables in Python expressions.\n",
        "2. Python supports various types of operators, including arithmetic operators (+, -, *, /), comparison operators (==, !=, <, >), logical operators (and, or, not), assignment operators (=, +=, -=, *=, /=), etc.\n",
        "3. Operators have precedence and associativity rules that determine the order of evaluation in expressions.\n"
      ],
      "metadata": {
        "id": "Oih42IBYrLwF"
      }
    },
    {
      "cell_type": "code",
      "source": [
        "# example of diffrent type of opreators\n",
        "#arithmatic operators\n",
        "a = 5\n",
        "b = 9\n",
        "add = a + b\n",
        "sub = a - b\n",
        "mul = a * b\n",
        "div = a / b\n",
        "\n"
      ],
      "metadata": {
        "id": "ETVbRnoYtEau"
      },
      "execution_count": 29,
      "outputs": []
    },
    {
      "cell_type": "code",
      "source": [
        "a +b"
      ],
      "metadata": {
        "colab": {
          "base_uri": "https://localhost:8080/"
        },
        "id": "g5mdWPn5uF7H",
        "outputId": "3e1c28e8-8bca-432d-a61a-b9abd671fc88"
      },
      "execution_count": 30,
      "outputs": [
        {
          "output_type": "execute_result",
          "data": {
            "text/plain": [
              "14"
            ]
          },
          "metadata": {},
          "execution_count": 30
        }
      ]
    },
    {
      "cell_type": "code",
      "source": [
        "#modulus operator\n",
        "21 % 4\n"
      ],
      "metadata": {
        "colab": {
          "base_uri": "https://localhost:8080/"
        },
        "id": "mpQemo8guJt1",
        "outputId": "0964756e-b12b-45f3-dbba-189d43a38f53"
      },
      "execution_count": 31,
      "outputs": [
        {
          "output_type": "execute_result",
          "data": {
            "text/plain": [
              "1"
            ]
          },
          "metadata": {},
          "execution_count": 31
        }
      ]
    },
    {
      "cell_type": "code",
      "source": [
        "2 ** 5"
      ],
      "metadata": {
        "colab": {
          "base_uri": "https://localhost:8080/"
        },
        "id": "PRgZ-8ih-h6X",
        "outputId": "e6ad680f-aab2-41f7-adc0-117e91f3081a"
      },
      "execution_count": 1,
      "outputs": [
        {
          "output_type": "execute_result",
          "data": {
            "text/plain": [
              "32"
            ]
          },
          "metadata": {},
          "execution_count": 1
        }
      ]
    },
    {
      "cell_type": "code",
      "source": [
        "#comparison operator\n",
        "2 == 2"
      ],
      "metadata": {
        "colab": {
          "base_uri": "https://localhost:8080/"
        },
        "id": "c45ivR_qFm10",
        "outputId": "490a2568-3a43-4b4a-d285-07e595c0586a"
      },
      "execution_count": 2,
      "outputs": [
        {
          "output_type": "execute_result",
          "data": {
            "text/plain": [
              "True"
            ]
          },
          "metadata": {},
          "execution_count": 2
        }
      ]
    },
    {
      "cell_type": "markdown",
      "source": [
        "Q5. Explain the concept of type casting in Python with examples of\n",
        "Type castnig in python\n"
      ],
      "metadata": {
        "id": "dxvH5bartEZF"
      }
    },
    {
      "cell_type": "markdown",
      "source": [
        "Type casting\n",
        "1. Type casting, also referred to as type conversion, is the process of changing one data type to another in Python.\n",
        "2. Python provides built-in functions for type casting, such as int(), float(), str(), list(), tuple(), dict(), etc.\n",
        "3. Type casting is often necessary for performing arithmetic operations, data manipulation, and input/output operations in Python programs.\n"
      ],
      "metadata": {
        "id": "c0WgHXVRsDHk"
      }
    },
    {
      "cell_type": "code",
      "source": [
        "#type casting /type conversion>> The preocess of changing the data type of a value / object\n",
        "a = \"2\"\n",
        "b = 3\n",
        "int (a)+b"
      ],
      "metadata": {
        "colab": {
          "base_uri": "https://localhost:8080/"
        },
        "id": "2dnOLV_dGCmx",
        "outputId": "14de28f2-2775-4ecc-ff81-d2ec9c4308bf"
      },
      "execution_count": 3,
      "outputs": [
        {
          "output_type": "execute_result",
          "data": {
            "text/plain": [
              "5"
            ]
          },
          "metadata": {},
          "execution_count": 3
        }
      ]
    },
    {
      "cell_type": "code",
      "source": [
        "from typing_extensions import IntVar\n",
        "#string to Int\n",
        "a = \"2\"\n",
        "print (type (a))\n",
        "print (type(int(a)))\n"
      ],
      "metadata": {
        "colab": {
          "base_uri": "https://localhost:8080/"
        },
        "id": "llLzo4ulGWbO",
        "outputId": "8828c4a8-efb8-471c-9bdc-4aa370e93d0b"
      },
      "execution_count": 4,
      "outputs": [
        {
          "output_type": "stream",
          "name": "stdout",
          "text": [
            "<class 'str'>\n",
            "<class 'int'>\n"
          ]
        }
      ]
    },
    {
      "cell_type": "markdown",
      "source": [
        "Q6. How do conditional statements work in Python? Illustrate with examples\n"
      ],
      "metadata": {
        "id": "9kttCQSvs4fs"
      }
    },
    {
      "cell_type": "markdown",
      "source": [
        "Conditional statements\n",
        "1. Conditionals in Python are used to execute code based on the evaluation of one or more conditions.\n",
        "2. Python supports conditional statements such as if, elif (else if), and else to control the flow of execution.\n",
        "3. Conditionals can be nested to handle multiple conditions and control different branches of execution based on the outcome of logical expressions.\n",
        "\n"
      ],
      "metadata": {
        "id": "kl_0GYiqtYeG"
      }
    },
    {
      "cell_type": "code",
      "source": [
        "#condition\n",
        "#if\n",
        "#if else\n",
        "#if clif (elseif) else\n",
        "#nested if else\n"
      ],
      "metadata": {
        "id": "fCBwz8u8Gcjf"
      },
      "execution_count": null,
      "outputs": []
    },
    {
      "cell_type": "code",
      "source": [
        "a = 100\n",
        "if a > 0: #executive the if the condition is true\n",
        "    print (\"the number is greater than 0.\")\n"
      ],
      "metadata": {
        "colab": {
          "base_uri": "https://localhost:8080/"
        },
        "id": "d5NVgbl3GjoZ",
        "outputId": "7e1e97de-a532-408e-de66-bed2bef604a1"
      },
      "execution_count": 5,
      "outputs": [
        {
          "output_type": "stream",
          "name": "stdout",
          "text": [
            "the number is greater than 0.\n"
          ]
        }
      ]
    },
    {
      "cell_type": "code",
      "source": [
        "#in real life if one condition is not fulfiled, you will do something else\n",
        "#example :: if weather is not rainy, i will go to play cricket else i will watch tv\n",
        "\n",
        "weather  = \"sunny\"\n",
        "if weather == \"rainy\":\n",
        "  print(\"i will go to play cricket\")\n",
        "else:\n",
        "  print(\"i will watch tv\")\n",
        "\n",
        ""
      ],
      "metadata": {
        "colab": {
          "base_uri": "https://localhost:8080/"
        },
        "id": "hTTX-03WGxTH",
        "outputId": "44de457c-ba69-4e02-9537-03ae563abd42"
      },
      "execution_count": 6,
      "outputs": [
        {
          "output_type": "stream",
          "name": "stdout",
          "text": [
            "i will watch tv\n"
          ]
        }
      ]
    },
    {
      "cell_type": "code",
      "source": [
        "#if else >> two condition\n",
        "#in real life we can have multiple condition\n",
        "#syntax\n",
        "#if some condition\n",
        "#elif some condition\n",
        "#else\n",
        "#if some condition\n",
        "#elif some condition\n",
        "#else"
      ],
      "metadata": {
        "id": "fL2Cur3AG8Yh"
      },
      "execution_count": 7,
      "outputs": []
    },
    {
      "cell_type": "code",
      "source": [
        "a =10\n",
        "a =10\n",
        "if a > 100:\n",
        "     print(\"this block will be executedif a is greater than 100\")\n",
        "elif a< 100:\n",
        "     print (\"this block will be executed if a is leaser than 100\")\n",
        "else:\n",
        "      print(\"the number is equals to 100\")\n"
      ],
      "metadata": {
        "colab": {
          "base_uri": "https://localhost:8080/"
        },
        "id": "ialhNxy2G-vo",
        "outputId": "441e02f8-2e0b-4d07-a266-8b903e4c1eb2"
      },
      "execution_count": 8,
      "outputs": [
        {
          "output_type": "stream",
          "name": "stdout",
          "text": [
            "this block will be executed if a is leaser than 100\n"
          ]
        }
      ]
    },
    {
      "cell_type": "markdown",
      "source": [
        "Q7. Describe the different types of loops in Python and their use cases with examples."
      ],
      "metadata": {
        "id": "YWoXS9hfuk9g"
      }
    },
    {
      "cell_type": "markdown",
      "source": [
        "Loops in python\n",
        "1. In Python, loops are employed to repeat a sequence of actions or code until a specific condition is fulfilled.\n",
        "2. Python offers two primary types of loops: for loops and while loops.\n",
        "3. “for” loops are used for iterating over a sequence of elements, while “while” loops are used for executing code until a specified condition becomes False\n",
        "\n"
      ],
      "metadata": {
        "id": "1aYirIUUuqAA"
      }
    },
    {
      "cell_type": "code",
      "source": [
        "#loops statement >> it allows you to execute a block of code repeatdly\n",
        "#loops >> while loop and for loops"
      ],
      "metadata": {
        "id": "uW2mY60ZHMVm"
      },
      "execution_count": null,
      "outputs": []
    },
    {
      "cell_type": "code",
      "source": [
        "#while >> repeatedly executed a block of code until a condition is met\n",
        "n =7\n",
        "i =1\n",
        "while i < n:\n",
        "  print (i)\n",
        "  i = i + 1"
      ],
      "metadata": {
        "colab": {
          "base_uri": "https://localhost:8080/"
        },
        "id": "9ZYVxbZLHMZJ",
        "outputId": "d2aff604-ae24-4895-e07a-0d17f60c4fec"
      },
      "execution_count": 9,
      "outputs": [
        {
          "output_type": "stream",
          "name": "stdout",
          "text": [
            "1\n",
            "2\n",
            "3\n",
            "4\n",
            "5\n",
            "6\n"
          ]
        }
      ]
    },
    {
      "cell_type": "code",
      "source": [
        "#for loops >>iterate over a sequence of elements >>strings, list\n",
        "for i in \"pwskill\":\n",
        "  print(i)"
      ],
      "metadata": {
        "colab": {
          "base_uri": "https://localhost:8080/"
        },
        "id": "v0_xmfdbHXyp",
        "outputId": "14835342-0f71-4164-8280-54229413bcba"
      },
      "execution_count": 10,
      "outputs": [
        {
          "output_type": "stream",
          "name": "stdout",
          "text": [
            "p\n",
            "w\n",
            "s\n",
            "k\n",
            "i\n",
            "l\n",
            "l\n"
          ]
        }
      ]
    },
    {
      "cell_type": "code",
      "source": [],
      "metadata": {
        "id": "oxhEYpxpHj3L"
      },
      "execution_count": null,
      "outputs": []
    }
  ]
}